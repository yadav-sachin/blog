{
 "cells": [
  {
   "cell_type": "markdown",
   "metadata": {},
   "source": [
    "# Machine Learning Quiz 3 Practice\n",
    "- toc: true\n",
    "- badges: true\n",
    "- comments: true\n",
    "- author: Sachin Yadav\n",
    "- categories: [MLCourse2022]\n",
    "- image: https://raw.githubusercontent.com/yadav-sachin/blog/master/_notebooks/assets/2022-02-25-machine-learning-quiz3/lasso-vis.png"
   ]
  },
  {
   "cell_type": "code",
   "execution_count": 1,
   "metadata": {},
   "outputs": [],
   "source": [
    "#collapse\n",
    "# Common imports\n",
    "import numpy as np\n",
    "import pandas as pd\n",
    "import matplotlib.pyplot as plt\n",
    "import seaborn as sns\n",
    "import plotly.express as px\n",
    "import plotly.graph_objects as go\n",
    "\n",
    "# Interacive input plots\n",
    "from ipywidgets import interact, interactive, fixed, interact_manual\n",
    "import ipywidgets as widgets\n"
   ]
  },
  {
   "cell_type": "code",
   "execution_count": 2,
   "metadata": {},
   "outputs": [],
   "source": [
    "# collapse\n",
    "plt.style.use(\"ggplot\")\n",
    "\n",
    "sns.set_style('darkgrid') # darkgrid, white grid, dark, white and ticks\n",
    "sns.set_palette('deep', 8, color_codes = True)\n",
    "\n",
    "plt.rc('axes', titlesize=18)     # fontsize of the axes title\n",
    "plt.rc('axes', labelsize=14)    # fontsize of the x and y labels\n",
    "plt.rc('xtick', labelsize=13)    # fontsize of the tick labels\n",
    "plt.rc('ytick', labelsize=13)    # fontsize of the tick labels\n",
    "plt.rc('legend', fontsize=13)    # legend fontsize\n",
    "plt.rc('font', size=13)          # controls default text sizes"
   ]
  },
  {
   "cell_type": "markdown",
   "metadata": {},
   "source": [
    "# Lasso Regression"
   ]
  },
  {
   "cell_type": "markdown",
   "metadata": {},
   "source": [
    "LASSO := Least absolute shrinkage and selection operator\n",
    "\n",
    "- Least absolute $\\rightarrow$ that we will be applying $L_{1}$ penalty.\n",
    "- Shrinkage $\\rightarrow$ that we are shrinking the $L_{1}$ norm of $\\theta$.\n",
    "- Selection $\\rightarrow$ the selected features would be sparse. A lot of $\\theta_{i}$ will be zero. (Inference would be faster)\n",
    "\n",
    "Popular as it would lead to a sparse solution.\n",
    "\n",
    "**Benefits of Sparse $\\theta$**\n",
    "- Inference is faster. (Time complexity of Inference in Linear Regression is $O(N \\times M)$, where N = Number of samples, M = Number of features)\n",
    "- Redundant features can be eliminated in the process. Inherently help in interpretability."
   ]
  },
  {
   "cell_type": "markdown",
   "metadata": {},
   "source": [
    "$$\\theta_{opt} = \\arg_{\\theta} \\min (Y - X\\theta)^{T}(Y - X\\theta) : \\mathopen|| \\theta \\mathclose||_{1} < S$$\n",
    "Using the KKT condition, we get\n",
    "$$\\theta_{opt} = \\arg_{\\theta} \\min (Y - X\\theta)^{T}(Y - X\\theta) + \\delta^{2} \\mathopen|| \\theta \\mathclose||_{1}$$\n",
    "The above function is a convex function. (sum of two convex functions)"
   ]
  },
  {
   "cell_type": "markdown",
   "metadata": {},
   "source": [
    "**But the $\\mathopen|| \\theta \\mathclose||_{1}$ is not differentiable**\n",
    "- It is not differentiable at $\\theta$ = 0\n",
    "- Sub-gradient is used when we can't compute gradient for such cases.\n",
    "\n",
    "- So we can use a generalised gradient descent for sub-gradients here.\n",
    "- Also, we will explore coordinate descent algorithm."
   ]
  },
  {
   "cell_type": "code",
   "execution_count": 3,
   "metadata": {},
   "outputs": [
    {
     "data": {
      "image/png": "[encoded data removed]",
      "text/plain": [
       "<Figure size 720x360 with 1 Axes>"
      ]
     },
     "metadata": {},
     "output_type": "display_data"
    }
   ],
   "source": [
    "# collapse\n",
    "np.random.seed(0)\n",
    "N = 30\n",
    "x = np.random.random(size = N)\n",
    "y = 4 * x + 7 + np.random.normal(scale = 0.2, size = N)\n",
    "\n",
    "fig, ax = plt.subplots(figsize = (10, 5), tight_layout = True)\n",
    "sns.scatterplot(x = x, y = y, ax = ax, label = \"Data Points\", color = \"b\")\n",
    "sns.lineplot(x = x, y = 4 * x + 7, label = \"True Fit\", color = \"r\")\n",
    "\n",
    "ax.set(title = \"4x + 7\", xlabel = \"x\", ylabel = \"y\")\n",
    "plt.show()"
   ]
  },
  {
   "cell_type": "code",
   "execution_count": 4,
   "metadata": {},
   "outputs": [
    {
     "data": {
      "application/vnd.jupyter.widget-view+json": {
       "model_id": "9ea66278453844a7bff42c46bc94bcff",
       "version_major": 2,
       "version_minor": 0
      },
      "text/plain": [
       "interactive(children=(FloatSlider(value=5.0, description='mu: ', step=0.2), Output()), _dom_classes=('widget-i…"
      ]
     },
     "metadata": {},
     "output_type": "display_data"
    },
    {
     "data": {
      "text/plain": [
       "<function __main__.plot_lasso_plot(mu)>"
      ]
     },
     "execution_count": 4,
     "metadata": {},
     "output_type": "execute_result"
    }
   ],
   "source": [
    "# collapse\n",
    "Y = y.reshape(-1, 1)\n",
    "X = np.ones((N, 2))\n",
    "X[:, 1] = x\n",
    "mu = 100\n",
    "\n",
    "t0_range = np.linspace(0, 10, num=200)\n",
    "t1_range = np.linspace(0, 10, num=200)\n",
    "T0, T1 = np.meshgrid(t0_range, t1_range)\n",
    "\n",
    "\n",
    "def plot_lasso_plot(mu):\n",
    "    Z = []\n",
    "    Z_constrained = []\n",
    "    for t0 in t0_range:\n",
    "        for t1 in t1_range:\n",
    "            theta = np.array([t0, t1]).reshape(-1, 1)\n",
    "            z = (Y - X @ theta).T @ (Y - X @ theta)\n",
    "            z_cons = z + mu * np.linalg.norm(theta.reshape(-1), ord=1)\n",
    "            Z_constrained += [z_cons]\n",
    "            Z += [z]\n",
    "\n",
    "    Z = np.array(Z).reshape(T0.shape)\n",
    "    Z_constrained = np.array(Z_constrained).reshape(T0.shape)\n",
    "    optimum_theta_idx = np.unravel_index(np.argmin(Z, axis=None), Z.shape)\n",
    "    optimum_theta_cons_idx = np.unravel_index(\n",
    "        np.argmin(Z_constrained, axis=None), Z.shape\n",
    "    )\n",
    "\n",
    "    fig, ax = plt.subplots(ncols=2, figsize=(20, 10), tight_layout=True)\n",
    "    plt.contourf(T0, T1, Z, levels=50, alpha=0.7)\n",
    "    plt.scatter(\n",
    "        T0[optimum_theta_idx],\n",
    "        T1[optimum_theta_idx],\n",
    "        marker=\"*\",\n",
    "        s=200,\n",
    "        color=\"y\",\n",
    "        label=\"unconstrained optimum\",\n",
    "    )\n",
    "    plt.scatter(\n",
    "        T0[optimum_theta_cons_idx],\n",
    "        T1[optimum_theta_cons_idx],\n",
    "        marker=\"*\",\n",
    "        s=200,\n",
    "        color=\"b\",\n",
    "        label=\"lasso regression\",\n",
    "    )\n",
    "\n",
    "    optimum_theta_cons = np.array(\n",
    "        [T0[optimum_theta_cons_idx], T1[optimum_theta_cons_idx]]\n",
    "    ).reshape(-1, 1)\n",
    "    lasso_theta_norm = np.sum(np.abs(optimum_theta_cons.reshape(-1)))\n",
    "    ax[1].fill(\n",
    "        [lasso_theta_norm, 0, 0, 0],\n",
    "        [0, lasso_theta_norm, 0, 0],\n",
    "        \"g\",\n",
    "        alpha=0.5,\n",
    "        label=rf\"$\\theta \\; L_{1}$ norm constraint $\\leq$ {lasso_theta_norm:.4f}\",\n",
    "    )\n",
    "\n",
    "    sns.scatterplot(x=x, y=y, ax=ax[0], label=\"Data Points\", color=\"b\")\n",
    "    sns.lineplot(x=x, y=4 * x + 7, ax=ax[0], label=\"True Fit\", color=\"r\")\n",
    "    sns.lineplot(\n",
    "        x=X[:, 1],\n",
    "        y=(X @ optimum_theta_cons).reshape(-1),\n",
    "        ax=ax[0],\n",
    "        label=\"Lasso Fit\",\n",
    "        color=\"g\",\n",
    "        linestyle=\"-.\",\n",
    "    )\n",
    "    ax[1].legend()\n",
    "    ax[0].legend()\n",
    "    ax[1].set(\n",
    "        title=\"Least Square Objective function\",\n",
    "        xlabel=r\"$\\theta_{0}$\",\n",
    "        ylabel=r\"$\\theta_{1}$\",\n",
    "    )\n",
    "    ax[0].set(\n",
    "        title=rf\"Line Fit $\\mu$ = {mu} :: $\\theta$ = {optimum_theta_cons.reshape(-1)}\",\n",
    "        xlabel=r\"x\",\n",
    "        ylabel=r\"y\",\n",
    "    )\n",
    "    fig.show()\n",
    "\n",
    "interact(\n",
    "    plot_lasso_plot,\n",
    "    mu=widgets.FloatSlider(\n",
    "        name=\"mu\", value=5, min=0, max=100, step=0.2, description=r\"mu: \"\n",
    "    ),\n",
    ")"
   ]
  },
  {
   "cell_type": "markdown",
   "metadata": {},
   "source": [
    "> Note: To view the interactive Lasso regression visualization, run the notebook in Colab."
   ]
  },
  {
   "cell_type": "markdown",
   "metadata": {},
   "source": [
    "## Coordinate Descent"
   ]
  },
  {
   "cell_type": "markdown",
   "metadata": {},
   "source": []
  }
 ],
 "metadata": {
  "interpreter": {
   "hash": "d237ae157f8cbaa923dd81e7af592b21f98237404da5d65484215342ef66488a"
  },
  "kernelspec": {
   "display_name": "Python 3.9.7 ('base')",
   "language": "python",
   "name": "python3"
  },
  "language_info": {
   "codemirror_mode": {
    "name": "ipython",
    "version": 3
   },
   "file_extension": ".py",
   "mimetype": "text/x-python",
   "name": "python",
   "nbconvert_exporter": "python",
   "pygments_lexer": "ipython3",
   "version": "3.9.7"
  },
  "orig_nbformat": 4
 },
 "nbformat": 4,
 "nbformat_minor": 2
}
