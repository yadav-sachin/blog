{
 "cells": [
  {
   "cell_type": "markdown",
   "metadata": {},
   "source": [
    "# Machine Learning Quiz 2 Practice\n",
    "- toc: true\n",
    "- badges: true\n",
    "- comments: true\n",
    "- author: Sachin Yadav\n",
    "- categories: [MLCourse2022]\n",
    "- image: https://c.tenor.com/cu2Gonk18tEAAAAC/nerd-sponge-bob.gif"
   ]
  },
  {
   "cell_type": "code",
   "execution_count": 1,
   "metadata": {},
   "outputs": [],
   "source": [
    "#collapse\n",
    "import numpy as np\n",
    "import pandas as pd\n",
    "import torch\n",
    "import matplotlib.pyplot as plt\n",
    "from ipywidgets import interact, interactive, fixed, interact_manual\n",
    "import ipywidgets as widgets"
   ]
  },
  {
   "cell_type": "code",
   "execution_count": null,
   "metadata": {},
   "outputs": [],
   "source": [
    "#collapse\n",
    "np.random.seed(0)\n",
    "torch.manual_seed(0)"
   ]
  },
  {
   "cell_type": "markdown",
   "metadata": {},
   "source": [
    "## Maths for ML"
   ]
  },
  {
   "cell_type": "markdown",
   "metadata": {},
   "source": [
    "1. Given a vector $\\epsilon$, we can calculate $\\sum\\epsilon_{i}^{2}$ using $\\epsilon^{T} \\epsilon$"
   ]
  },
  {
   "cell_type": "code",
   "execution_count": 3,
   "metadata": {},
   "outputs": [],
   "source": [
    "#collapse\n",
    "# As per the convention we take epsilon to be a 2D column vector\n",
    "y = np.array([1.3, 2.5, 6.4, 8.1, 9.0]).reshape(-1, 1)\n",
    "y_hat = np.array([1.5, 2.0, 5.9, 8.5, 9.0]).reshape(-1, 1)\n",
    "\n",
    "epsilon = np.abs(y - y_hat)\n",
    "\n",
    "epsilon_square_sum1 = np.sum(epsilon**2)\n",
    "epsilon_square_sum2 = (epsilon.T @ epsilon).item()\n",
    "\n",
    "assert np.allclose(epsilon_square_sum1, epsilon_square_sum2)"
   ]
  },
  {
   "cell_type": "markdown",
   "metadata": {},
   "source": [
    "2. $(AB)^{T} = B^{T}A^{T}$"
   ]
  },
  {
   "cell_type": "code",
   "execution_count": 4,
   "metadata": {},
   "outputs": [],
   "source": [
    "#collapse\n",
    "A = np.random.randn(50, 10)\n",
    "B = np.random.randn(10, 20)\n",
    "\n",
    "ab_t = (A @ B).T\n",
    "b_t_a_t = B.T @ A.T\n",
    "assert np.allclose(ab_t, b_t_a_t)"
   ]
  },
  {
   "cell_type": "markdown",
   "metadata": {},
   "source": [
    "3. For a scalar $s$, $s = s^{T}$"
   ]
  },
  {
   "cell_type": "markdown",
   "metadata": {},
   "source": [
    "4. Derivative of scalar $s$ with respect to (yes!, I wrote wrt as full here 😁) vector $\\theta$\n",
    "   $$\\theta = \\begin{bmatrix} \\theta_{1} \\\\ \\theta_{2} \\\\ \\vdots \\\\ \\theta{n} \\end{bmatrix}$$\n",
    "    $$\\frac{\\partial s}{\\partial \\theta} = \\begin{bmatrix}\n",
    "     \\frac{\\partial s}{\\partial \\theta_{1}} \\\\\n",
    "     \\frac{\\partial s}{\\partial \\theta_{2}} \\\\\n",
    "     \\frac{\\partial s}{\\partial \\theta_{3}} \\\\\n",
    "     \\vdots \\\\\n",
    "     \\frac{\\partial s}{\\partial \\theta_{n}} \n",
    "     \\end{bmatrix} $$"
   ]
  },
  {
   "cell_type": "markdown",
   "metadata": {},
   "source": [
    "5. If $A$ is a matrix and $\\theta$ is a vector, and $A\\theta$ is a scalar. Then \n",
    "   $$ \\frac{\\partial A \\theta}{\\partial \\theta} = A^{T} $$\n",
    "\n",
    "🤔 Taking some similarity with $a\\theta$, where both $a$ and $\\theta$ are scalar, I have an idea that it would be A. But shape of gradient would be $N \\times 1$, so $A^{T}$ is my guess before starting any calculations."
   ]
  },
  {
   "cell_type": "code",
   "execution_count": 5,
   "metadata": {},
   "outputs": [],
   "source": [
    "#collapse\n",
    "N = 20\n",
    "# as A $\\theta$ is scalar, so A.shape[0] should be 1.\n",
    "A = torch.randn((1, N))\n",
    "theta = torch.randn((N, 1), requires_grad=True)\n",
    "scalar = A @ theta\n",
    "scalar.backward()\n",
    "assert torch.allclose(theta.grad, A.T)"
   ]
  },
  {
   "cell_type": "markdown",
   "metadata": {},
   "source": [
    "6. Assume $Z$ is a matrix of form $X^{T}X$, then \n",
    "   $$ \\frac{\\partial (\\theta^{T}Z\\theta)}{\\partial \\theta} = 2Z^{T}\\theta$$\n",
    "\n",
    "🤔 Let me again make a good guess before any calculation, if $\\theta$ and $Z$ are both scaler, then the derivative would look like $2Z\\theta$. So my guess would $2Z\\theta$, which is equal to $2Z^{T}\\theta$ as both are $Z$ is symmetric."
   ]
  },
  {
   "cell_type": "code",
   "execution_count": 6,
   "metadata": {},
   "outputs": [],
   "source": [
    "#collapse\n",
    "X = torch.randn((N, N))\n",
    "Z = X.T @ X\n",
    "theta = torch.randn((N, 1), requires_grad=True)\n",
    "\n",
    "scalar = theta.T @ Z @ theta\n",
    "scalar.backward()\n",
    "\n",
    "assert torch.allclose(theta.grad, 2 * Z.T @ theta)"
   ]
  },
  {
   "cell_type": "markdown",
   "metadata": {},
   "source": [
    "Let's skip over the content of Rank topic for now. "
   ]
  },
  {
   "cell_type": "markdown",
   "metadata": {},
   "source": [
    "The maximum rank possible for a matrix is $max(R, C)$ \n",
    "\n",
    "But an interesting question would be 🤔, what is the minimum rank possible for a matrix, is it 0, is it 1?\n",
    "\n",
    "Ans: Rank is zero, in case of zero matrix."
   ]
  },
  {
   "cell_type": "markdown",
   "metadata": {},
   "source": [
    "Just a leaving thought, if I would have been a developer of Numpy, I would not have allowed `np.eye` as the method for identity matrix. Better to use `np.identity` only. 😞"
   ]
  },
  {
   "cell_type": "markdown",
   "metadata": {},
   "source": [
    "## Introduction to Linear Regression"
   ]
  },
  {
   "cell_type": "markdown",
   "metadata": {},
   "source": [
    "Considering `weight` as a linear function of `height`:\n",
    "- $weight_{1} \\approx \\theta_{0} + \\theta_{1} * height_{1}$\n",
    "- $weight_{2} \\approx \\theta_{0} + \\theta_{1} * height_{2}$\n",
    "- $weight_{N} \\approx \\theta_{0} + \\theta_{1} * height_{N}$\n",
    "\n",
    "Add extra columns of $1s$ for the bias term in $\\theta$\n",
    "\n",
    "$$ W_{N\\times1} = X_{N\\times2} \\, \\theta_{2\\times1} $$\n",
    "where the feature matrix $X$, $X = \\begin{bmatrix}\n",
    "1 & height_{1} \\\\\n",
    "1 & height_{2} \\\\\n",
    "\\vdots & \\vdots \\\\\n",
    "1 & height_{N}\n",
    "\\end{bmatrix}$\n",
    "\n",
    "- $\\theta_{0}$, Bias/Intercept term : (the value of $y$, when $x$ is set to zero)\n",
    "- $\\theta_{1}$, Slope term : (the increase in $y$, when $x$ is increased by 1 unit)"
   ]
  },
  {
   "cell_type": "markdown",
   "metadata": {},
   "source": [
    "**Generalized Linear Regression**\n",
    "- $N$: Number of training samples\n",
    "- $M$: Number of features\n",
    "  \n",
    "$$ \\begin{bmatrix}\n",
    "\\hat{y}_{1} \\\\\n",
    "\\hat{y}_{2} \\\\\n",
    "\\vdots \\\\\n",
    "\\hat{y}_{N} \\\\\n",
    "\\end{bmatrix}\n",
    "_{N \\times 1}\n",
    "= \\begin{bmatrix}\n",
    "1 & x_{1, 1} & x_{1, 2} & \\ldots & x_{1, M} \\\\\n",
    "1 & x_{2, 1} & x_{2, 2} & \\ldots & x_{2, M} \\\\\n",
    "\\vdots & \\vdots & \\vdots & \\ldots & \\vdots \\\\\n",
    "1 & x_{N, 1} & x_{N, 2} & \\ldots & x_{N, M} \\\\\n",
    "\\end{bmatrix} _{N \\times (M + 1)}\n",
    "\\begin{bmatrix}\n",
    "\\theta_{0} \\\\\n",
    "\\theta_{1} \\\\\n",
    "\\vdots \\\\\n",
    "\\theta_{M}\n",
    "\\end{bmatrix} _{(M + 1)\\times 1}\n",
    "$$\n",
    "\n",
    "$$ \\hat{y} = X \\theta $$\n",
    "\n",
    "\n"
   ]
  },
  {
   "cell_type": "markdown",
   "metadata": {},
   "source": [
    "Now, the task at our hand is to estimate \"good\" values of $\\theta$, which will give \"good\" approximation to the actual values.But how do we decide if a set of values of $\\theta$ is \"better\" than another value of $\\theta$. We need a metric for evalution here.\n",
    "\n",
    "Let $\\epsilon_{i}$ be $y_{i} - \\hat{y}_{i}$, where $\\epsilon_{i} \\sim \\mathcal{N} (0, \\sigma^{2})$. We are assuming that $\\epsilon_{i}$ is coming from this normal distribution.\n",
    "\n",
    "We want $|\\epsilon_{1}|$, $|\\epsilon_{2}|$, $|\\epsilon_{3}|$ ... , $|\\epsilon_{N}|$ to be small.\n",
    "\n",
    "So we can try to minimize L2 norm (Squared Error) or L1 norm."
   ]
  },
  {
   "cell_type": "code",
   "execution_count": 7,
   "metadata": {},
   "outputs": [
    {
     "data": {
      "application/vnd.jupyter.widget-view+json": {
       "model_id": "e3bf2fdb1ff047c5abae76a5b34eacfe",
       "version_major": 2,
       "version_minor": 0
      },
      "text/plain": [
       "interactive(children=(FloatSlider(value=-300.0, description='theta0', max=1000.0, min=-1000.0, step=1.0), Floa…"
      ]
     },
     "metadata": {},
     "output_type": "display_data"
    },
    {
     "data": {
      "text/plain": [
       "<function __main__.plot_func(theta0, theta1)>"
      ]
     },
     "execution_count": 7,
     "metadata": {},
     "output_type": "execute_result"
    }
   ],
   "source": [
    "#collapse\n",
    "weight_height_df = pd.read_csv(\n",
    "    \"https://raw.githubusercontent.com/yadav-sachin/blog/master/_notebooks/assets/2022-02-17-machine-learning-quiz2-practice/weight-height.csv\"\n",
    ")\n",
    "# take 30 points\n",
    "sampled_idx = np.random.choice(np.arange(len(weight_height_df)), size=30, replace=False)\n",
    "weight_height_df = weight_height_df.iloc[sampled_idx][[\"Height\", \"Weight\"]].sort_values(\n",
    "    by=[\"Height\"]\n",
    ")\n",
    "\n",
    "\n",
    "def plot_func(theta0, theta1):\n",
    "    x = weight_height_df[\"Height\"]\n",
    "    y = weight_height_df[\"Weight\"]\n",
    "    y_hat = theta0 + x * theta1\n",
    "    fig, ax = plt.subplots(figsize = (10, 8))\n",
    "    ax.scatter(x, y, label=\"Actual\")\n",
    "    ax.plot(x, y_hat, label=\"Pred\", linestyle = \"--\")\n",
    "    ax.legend()\n",
    "    ax = plt.gca()\n",
    "    ax.set_ylim([50, 400])\n",
    "    mse_val = np.mean((y - y_hat)**2)\n",
    "    ax.set_title(rf\"$\\theta_{0}$={theta0}, $\\theta_{1}$={theta1}    MSE val: {mse_val:.3f}\")\n",
    "\n",
    "\n",
    "interact(\n",
    "    plot_func,\n",
    "    theta0=widgets.FloatSlider(name = \"theta0 (bias)\", value=-300, min=-1000, max=1000, step=1),\n",
    "    theta1=widgets.FloatSlider(name = \"theta1 (slope)\", value=7.5, min=-20, max=20, step=0.01),\n",
    ")"
   ]
  },
  {
   "cell_type": "markdown",
   "metadata": {},
   "source": [
    ">Note: Run the notebook in Colab to view the interactive plot above, where we manually change parameters (using sliders) and fit the line through training points with Mean Squared error as the guiding value."
   ]
  },
  {
   "cell_type": "markdown",
   "metadata": {},
   "source": [
    "### Normal Equation\n",
    "$$ y = X\\theta + \\epsilon$$\n",
    "Objective: To minimize $\\epsilon^{T} \\epsilon$\n",
    "$$\\epsilon^{T} \\epsilon = y y^{T} - 2 y^{T}X\\theta + \\theta^{T}X^{T}X\\theta$$\n",
    "$$\\frac{\\partial (\\epsilon^{T} \\epsilon)}{\\partial \\theta} = -2X^{T}y + 2X^{T}X\\theta$$ \n",
    "(we use some of our results from previous chapter \"Maths for ML\")\n",
    "\n",
    "Setting it to zero, \n",
    "$$ \\theta^{*} = (X^{T}X)^{-1}X^{T}y$$"
   ]
  },
  {
   "cell_type": "markdown",
   "metadata": {},
   "source": [
    "## Geometric Interpretation of Linear Regression"
   ]
  },
  {
   "cell_type": "markdown",
   "metadata": {},
   "source": [
    "We have $\\hat{y} = X\\theta$, where $X$ is shape of $(N \\times M)$, where $M$ is #features and $N$ is #samples.\n",
    "\n",
    "When we multiply $X$ with column vector $\\theta$, the get a column vector which is the linear combination of the columns of matrix $X$. The linear combination, the coeffients of combination are decided by the parameters in $\\theta$. So $X\\theta$ lies in the span of columns of X.\n",
    "\n",
    "Our objective is to get a $\\theta$ to minimize $\\mathopen|| y - X\\theta \\mathclose||$. \n",
    "\n",
    "The span of columns of $X$ would be a plane in $N$ dimensional space, $X\\theta$ lies on this plane. So the least distance, is when the $X\\theta - y$ is perpendicular to this plane (span of columns of $X$)."
   ]
  },
  {
   "cell_type": "markdown",
   "metadata": {},
   "source": [
    "Therefore $(y - \\hat{y}) \\bot (x_{j}) \\forall j$\n",
    "$$X^{T} (y - X\\theta^{*}) = 0$$\n",
    "We get, \n",
    "$$\\theta^{*} = (X^{T}X)^{-1}X^{T}y$$"
   ]
  },
  {
   "cell_type": "markdown",
   "metadata": {},
   "source": [
    "## Linear Regression"
   ]
  },
  {
   "cell_type": "markdown",
   "metadata": {},
   "source": [
    "### Relation between #samples and #features in Linear Regression\n",
    "Let $N$ be number of samples and $M$ be the number of variables/features.\n",
    "\n",
    "**Under-determined system**: In Linear Algebra, if we have $N$ equations with $M$ variables and $N < M$, then it is called an under-determined system. In this case, we will have infinite solutions.\n",
    "\n",
    "**Over-determined sytem**: When $N > M$, the system is over-determined. In this case the sum of residuals $\\sum \\mathopen| \\epsilon_{i} \\mathclose| > 0$, in most cases unless we are able to get perfect fit."
   ]
  },
  {
   "cell_type": "markdown",
   "metadata": {},
   "source": [
    "### Variable Transformation\n",
    "In case the output does not seem like a linear combination of the variables, we can also use the higher powers of variables in the linear combination.\n",
    "\n",
    "We can also use other transformations like logarithm, multiples of more than one variable, etc. And we would still call it \"Linear\" Regression, as we are here talking about the linearity in coefficients/parameter space ($\\theta$)."
   ]
  },
  {
   "cell_type": "markdown",
   "metadata": {},
   "source": [
    "### Multi-collinearity\n",
    "There can be situations when $X^{T}X$ is a singular matrix. such as \n",
    "$$ X = \\begin{bmatrix} \n",
    "1 & 1 & 2 \\\\\n",
    "1 & 2 & 4 \\\\\n",
    "1 & 3 & 6 \n",
    "\\end{bmatrix}$$\n",
    "For \n",
    "$$\\begin{bmatrix} x_{1} & x_{2} & y \\\\\n",
    "1 & 2 & 4 \\\\\n",
    "2 & 4 & 6 \\\\\n",
    "3 & 6 & 8 \\end{bmatrix} $$\n",
    "\n",
    "In this case, a perfect fit is not possible.\n",
    "\n",
    "In case, we still want to use the normal equation. \n",
    "The ways are:\n",
    "- Regularise: We can add some jitter/noise to the diagonal values and make it invertible.\n",
    "- Drop Variables: As here in this case, $x_{2} = 2 * x_{1}$, so we may drop either one of these variables.\n",
    "- Using different subsets of the data samples might work\n",
    "- Avoid dummy variable trap\n",
    "\n",
    "This problem also arises due to dummy variable trap.\n"
   ]
  },
  {
   "cell_type": "markdown",
   "metadata": {},
   "source": [
    "### Dummy Variables\n",
    "Let's assume if we have a categorical variable in linear regression setup, where the air pollution is a function of (#Vehicles, Wind-speed and Wind-direction). As we cannot give categorical values, we need to have corresponding numerical values. \n",
    "\n",
    "Such as if we have `wind-direction`, there are 4 categories of this variables namely `North`, `West`, `East` and `South`.\n",
    "If we go ahead and numerically encode them, `North` values become $0$, `West` values become $1$ and so on.\n",
    "\n",
    "The problem here is that we cannot assign such numerical ordering to the categories, as numerical categories have comparion in case of values. Such as $2$ = $2 \\times 1$, but is contribution due to  `West` = $2 \\times$ `North`\n",
    "\n",
    "**N-1 Variable Encoding**: Then to avoid this problem, we use **$C-1$ variable encodings**, where $C$ is the number of the categories of the categorical variable.\n",
    "The logic is that, to specify the class of the sample, I need to ask at least $C-1$ binary questions.\n",
    "- Is it Class $1$?\n",
    "- Is it Class $2$?\n",
    "- $\\vdots$\n",
    "- Is it Class $C-1$?\n",
    "  \n",
    "**One-hot Variable Encoding**: I can ask $C$ binary questions.\n",
    "- Is it Class $1$?\n",
    "- Is it Class $2$?\n",
    "- $\\vdots$\n",
    "- Is it Class $C - 1$?\n",
    "- Is it Class $C$?\n",
    "\n",
    "**But which one is better?**\n",
    "The $C_{th}$ class variable is redundant, as we can determine its values based on $C-1$ class variables.\n",
    "\n",
    "So One-hot encoding can cause multi-collinearity in Linear Regression, as one of the added variables is redundant and dependent on other variables. "
   ]
  },
  {
   "cell_type": "markdown",
   "metadata": {},
   "source": [
    "## Convexity"
   ]
  },
  {
   "cell_type": "markdown",
   "metadata": {},
   "source": [
    "Convexity defined over an interval $[\\alpha, \\beta]$, is such that the line segment joining two points $(a, f(a))$, $(b, f(b))$ is above or on the function for all points between in $[a, b]$, given $\\alpha \\leq a, b \\leq \\beta$."
   ]
  },
  {
   "cell_type": "markdown",
   "metadata": {},
   "source": [
    "One of the problem I noticed is that students/people are just giving out more complex definitions of \"convexity\", which makes the things look complex but are actually very simple. So let's not discuss: other definitions reducing distance, Rolle's theroem, etc. and keep the definition simple. \n"
   ]
  },
  {
   "cell_type": "markdown",
   "metadata": {},
   "source": [
    "### Prove $f(x) = x^{2}$ is Convex\n",
    "Let the two chosen points are $(a, f(a))$ and $(b, f(b))$.\n",
    "\n",
    "Then any point on the line segment joining the points can be described as $$(t \\times a + (1 - t) \\times b, t\\times f(a) + (1 - t) \\times f(b))$$\n",
    "\n",
    "the corresponding point on the curve at the same $x$-coordinate is \n",
    "$$(t \\times a + (1 - t) \\times b, f(t \\times a + (1 - t) \\times b))$$ \n",
    "here $ 0 < t < 1$\n",
    "\n",
    "The difference in $y$ is:\n",
    "$$t(1-t)(a - b)^{2}$$\n",
    "which is greater than or equal to zero. Hence the line-segment is always above the function in all points between $a$ and $b$. So function is convex."
   ]
  },
  {
   "cell_type": "markdown",
   "metadata": {},
   "source": [
    "### Double-Derivative Test\n",
    "If double-derivative wrt x > 0, then convex.\n",
    "\n",
    "**Double-Derivative Test for multi-parameter function**\n",
    "It is equal to Hessian matrix. \n",
    "A function $f(x_{1}, x_{2}, x_{3}, \\ldots, x_{n})$ is convex iff Hessian Matrix is positive semidefinite for all possible values of $(x_{1}, x_{2}, x_{3}, \\ldots, x_{n})$.\n",
    "\n",
    "$$(Hess f)_{ij} \\equiv \\frac{\\partial^{2} f}{\\partial x_{i} \\partial x_{j} } $$ \n",
    "The Hessian matrix is of shape $(N \\times N)$"
   ]
  },
  {
   "cell_type": "markdown",
   "metadata": {},
   "source": [
    "Let $f(x_{1}, x_{2}) = x_{1}^{2} + x_{2}^{2}$\n",
    "\n",
    "$$ Hess(f) = \\begin{bmatrix} 2 & 0 \\\\ 0 & 2 \\end{bmatrix} $$\n",
    "This is positive semidefinite, so $x_{1}^{2} + x_{2}^{2}$ is convex function.\n",
    "\n",
    "> Tip: A quick way to check if a matrix is semi-positive definite is that you take determinant of 1X1, 2X2, ..., NXN upper sub-matrices containing the first pivot point and check if greater than or equal to zero."
   ]
  },
  {
   "cell_type": "markdown",
   "metadata": {},
   "source": [
    "### Convexity of Least Squares in Linear Regression\n",
    "$$f(\\theta) = \\mathopen|| y - X\\theta \\mathclose||^{2}$$\n",
    "This is equal to $y y^{T} - 2 y^{T}X\\theta + \\theta^{T}X^{T}X\\theta$. \n",
    "\n",
    "We double differentiate it and get $X^{T}X$, which is a positive semidefinite matrix.\n",
    "\n",
    "So this is where we connect convexity to Linear Regression.\n",
    "\n",
    "![\"Spongebob: Excited\"](https://media3.giphy.com/media/SKGo6OYe24EBG/giphy.gif?cid=ecf05e47apsw2jhmlkq8pu3zxp4yia1jkbk9d3y8nmip5tc1&rid=giphy.gif&ct=g)"
   ]
  },
  {
   "cell_type": "markdown",
   "metadata": {},
   "source": [
    "If $f(x)$ and $g(x)$ is convex, \n",
    "- $f(x) + g(x)$ is convex.\n",
    "- $kf(x)$ is convex, for $k \\geq 0$.\n",
    "\n",
    "Convex function has this unique property of having a unique minima, which is the global minima."
   ]
  },
  {
   "cell_type": "markdown",
   "metadata": {},
   "source": [
    "## Gradient Descent"
   ]
  },
  {
   "cell_type": "markdown",
   "metadata": {},
   "source": [
    "### Contour Plots and Gradients\n",
    "Gradients is the direction for maximum increase in the function value.\n",
    "\n",
    "To decrease the value of the function the most, we move in the opposite direction of gradient (negative of gradient vector)."
   ]
  },
  {
   "cell_type": "markdown",
   "metadata": {},
   "source": [
    "### Algorithm\n",
    "- Start with some $x_{0}$\n",
    "- Till convergence or iterations exhausted\n",
    "  - $x_{i} = x_{i - 1} - \\alpha\\frac{\\partial f(x)}{\\partial x}$, $\\alpha$ is the step-size or learning-rate"
   ]
  },
  {
   "cell_type": "markdown",
   "metadata": {},
   "source": [
    "**Quiz Day has arrived**"
   ]
  },
  {
   "cell_type": "markdown",
   "metadata": {},
   "source": [
    "![](https://media1.giphy.com/media/HUkOv6BNWc1HO/giphy.gif?cid=ecf05e47g96d66fxw5ef6vggr76ukbuhr66v11qnhjn9gurx&rid=giphy.gif&ct=g) \n",
    "\n",
    "As very less time remaining to quiz, so moving to important points where need to remember."
   ]
  }
 ],
 "metadata": {
  "interpreter": {
   "hash": "d237ae157f8cbaa923dd81e7af592b21f98237404da5d65484215342ef66488a"
  },
  "kernelspec": {
   "display_name": "Python 3.9.7 ('base')",
   "language": "python",
   "name": "python3"
  },
  "language_info": {
   "codemirror_mode": {
    "name": "ipython",
    "version": 3
   },
   "file_extension": ".py",
   "mimetype": "text/x-python",
   "name": "python",
   "nbconvert_exporter": "python",
   "pygments_lexer": "ipython3",
   "version": "3.9.7"
  },
  "orig_nbformat": 4
 },
 "nbformat": 4,
 "nbformat_minor": 2
}
