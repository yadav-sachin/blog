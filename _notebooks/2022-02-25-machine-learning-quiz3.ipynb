{
 "cells": [
  {
   "cell_type": "markdown",
   "metadata": {},
   "source": [
    "# Machine Learning Quiz 3 Practice\n",
    "- toc: true\n",
    "- badges: true\n",
    "- comments: true\n",
    "- author: Sachin Yadav\n",
    "- categories: [MLCourse2022]\n",
    "- image: https://c.tenor.com/hD6ynJK-ctAAAAAC/spongebob.gif"
   ]
  }
 ],
 "metadata": {
  "language_info": {
   "name": "python"
  },
  "orig_nbformat": 4
 },
 "nbformat": 4,
 "nbformat_minor": 2
}
