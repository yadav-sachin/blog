{
 "cells": [
  {
   "cell_type": "markdown",
   "metadata": {},
   "source": [
    "# Most Frequent How-Tos\n",
    "- toc: true\n",
    "- badges: true\n",
    "- comments: true\n",
    "- author: Sachin Yadav\n",
    "- categories: [HowTo]\n",
    "<!-- - image: https://c.tenor.com/cu2Gonk18tEAAAAC/nerd-sponge-bob.gif -->"
   ]
  },
  {
   "cell_type": "markdown",
   "metadata": {},
   "source": [
    "The art of \"searching on internet\" is very crucial. Many times we face some technical tasks, which require us to frequently visit some blogs and Ask Ubuntu pages. \n",
    "So I thought of compiling some of the most common to-dos that I frequently search on the Internet."
   ]
  },
  {
   "cell_type": "markdown",
   "metadata": {},
   "source": [
    "### How To Configure SSH Key-Based Authentication on a Remote Server\n",
    "\n",
    "Saving your time to enter the password for SSH login into the remote machine every day. 😉\n",
    "\n",
    "https://www.digitalocean.com/community/tutorials/how-to-configure-ssh-key-based-authentication-on-a-linux-server"
   ]
  },
  {
   "cell_type": "markdown",
   "metadata": {},
   "source": [
    "### How to terminate Ubuntu under WSL\n",
    "\n",
    "Sometimes WSL occupies a lot of memory and CPU usage. It does not gets killed once no longer used.\n",
    "\n",
    "Short answer: `wsl --shutdown` in Windows terminal. (terminates all WSL distributions)\n",
    "\n",
    "\n",
    "Long answer: https://askubuntu.com/questions/1131122/cant-restart-shutdown-ubuntu-under-wsl\n"
   ]
  },
  {
   "cell_type": "markdown",
   "metadata": {},
   "source": [
    "### How to enable ['blackcellmagic'](https://github.com/csurfer/blackcellmagic) in VS Code Jupyter notebook?\n",
    "\n",
    "```python\n",
    "%load_ext blackcellmagic\n",
    "```\n",
    "\n",
    "To use:\n",
    "```python\n",
    "%%black\n",
    "```\n",
    "in code cell's beginning."
   ]
  },
  {
   "cell_type": "markdown",
   "metadata": {},
   "source": [
    "### How to save csv with gzip compression in pandas?\n",
    "**Writing**  \n",
    "`df.to_csv('dfsavename.csv.gz', compression='gzip')`  \n",
    "**Reading**  \n",
    "`df = pd.read_csv('dfsavename.csv.gz', compression='gzip')`\n"
   ]
  },
  {
   "cell_type": "markdown",
   "metadata": {},
   "source": [
    "### How to give path relative to python file script directory than relative path to running directory?\n",
    "\n",
    "We sometimes use paths like\n",
    "```python\n",
    "with open(\"../a.txt\") as file:\n",
    "    pass\n",
    "```\n",
    "\n",
    "This can be wrong the relatives path are taken *in relative* to running directory (the directory in terminal from where the python script is run) not the directory of python file.\n",
    "\n",
    "To overcome this use:\n",
    "```python\n",
    "import os.path\n",
    "script_dir = os.path.dirname(__file__)\n",
    "with open(script_dir + \"/../a.txt\") as file:\n",
    "    pass\n",
    "```\n",
    "\n",
    "`script_dir` now stores directory of the python script file, irrespective of from wherever it is run.\n",
    "\n",
    "**Note**: This issue does not occur in jupyter notebooks. Also, in jupyter notebooks, varibles like `__file__` and `__main__` are not defined."
   ]
  },
  {
   "cell_type": "markdown",
   "metadata": {},
   "source": [
    "### How to check memory usage of each directory?\n",
    "\n",
    "The command is the `du` command. But I need to add few arguments to make it more useful.\n",
    "Currently, it shows memory recursively in each directory. \n",
    "\n",
    "For showing memory in MB, only folders in current directory (and not recursively):\n",
    "\n",
    "```bash\n",
    "du -m -a --max-depth 1\n",
    "```"
   ]
  }
 ],
 "metadata": {
  "language_info": {
   "name": "python"
  },
  "orig_nbformat": 4
 },
 "nbformat": 4,
 "nbformat_minor": 2
}
