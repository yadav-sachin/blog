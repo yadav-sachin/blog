{
 "cells": [
  {
   "cell_type": "markdown",
   "metadata": {},
   "source": [
    "# \"GRE Prep: Week 1\"\n",
    "- toc: true\n",
    "- badges: true\n",
    "- comments: true\n",
    "- author: Sachin Yadav\n",
    "- categories: [GRE]\n",
    "- image: https://i.redd.it/o89xi9drset51.png"
   ]
  },
  {
   "cell_type": "markdown",
   "metadata": {},
   "source": [
    "## Some Backstory\n",
    "This week I started with my GRE preparation with [GregMat.com](gregmat.com). I will be posting a subset of my journey as my blogs. As sharing of GregMat premium content on other platforms is probhited and unethical, I will only refer to freely available content if required for revision."
   ]
  },
  {
   "cell_type": "markdown",
   "metadata": {},
   "source": [
    "# [About GRE](https://www.gregmat.com/about-gre)"
   ]
  },
  {
   "cell_type": "markdown",
   "metadata": {},
   "source": [
    "## Exam Structure\n",
    "![](./assets/2022-03-01-gre-prep-week-1/gre_exam_structure.png)\n",
    "\n",
    "There are two possibilities: \n",
    "- You get 3 Quant sections and 2 Verbal sections. (one of the three Quant section will be unscored i.e. one quant section's score will be not counted)\n",
    "- You get 3 Verbal sections and 2 Quant sections. (one of the three Verbal section will be unscored i.e. one Verbal section's score will be not counted.)\n",
    "This unscored section of the three, will be completely random, which you will be unaware of.\n",
    "\n",
    "\n",
    "- **Number of Sections**: 7 (2 Writing + 2 Quant + 2 Verbal) + (1 Unscored \"Research\" Quant/Verbal section)\n",
    "- Each section of approx. 30 minutes.\n",
    "- **Exam Duration**: 230 minutes exam + 10 mins break (after 3 sections) = 240 mins [4 hrs]\n",
    "\n"
   ]
  },
  {
   "cell_type": "markdown",
   "metadata": {},
   "source": [
    "### Scoring\n",
    "| Section | Minimum Score | Maximum Score |\n",
    "| -------| ------| ------- |\n",
    "| Verbal | 130 | 170 |\n",
    "| Quant | 130 | 170 | \n",
    "| Writing | 0 | 6.5 |"
   ]
  },
  {
   "cell_type": "markdown",
   "metadata": {},
   "source": []
  }
 ],
 "metadata": {
  "language_info": {
   "name": "python"
  },
  "orig_nbformat": 4
 },
 "nbformat": 4,
 "nbformat_minor": 2
}
