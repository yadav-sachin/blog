{
 "cells": [
  {
   "cell_type": "markdown",
   "metadata": {},
   "source": [
    "# Machine Learning Quiz 2 Practice\n",
    "- toc: true\n",
    "- badges: true\n",
    "- comments: true\n",
    "- author: Sachin Yadav\n",
    "- categories: [MLCourse2022]"
   ]
  },
  {
   "cell_type": "code",
   "execution_count": 1,
   "metadata": {},
   "outputs": [],
   "source": [
    "#collapse\n",
    "import numpy as np\n",
    "import pandas as pd\n",
    "import torch"
   ]
  },
  {
   "cell_type": "markdown",
   "metadata": {},
   "source": [
    "## Maths for ML"
   ]
  },
  {
   "cell_type": "markdown",
   "metadata": {},
   "source": [
    "1. Given a vector $\\epsilon$, we can calculate $\\sum\\epsilon_{i}^{2}$ using $\\epsilon^{T} \\epsilon$"
   ]
  },
  {
   "cell_type": "code",
   "execution_count": 2,
   "metadata": {},
   "outputs": [],
   "source": [
    "#collapse\n",
    "# As per the convention we take epsilon to be a 2D column vector\n",
    "y = np.array([1.3, 2.5, 6.4, 8.1, 9.0]).reshape(-1, 1)\n",
    "y_hat = np.array([1.5, 2.0, 5.9, 8.5, 9.0]).reshape(-1, 1)\n",
    "\n",
    "epsilon = np.abs(y - y_hat)\n",
    "\n",
    "epsilon_square_sum1 = np.sum(epsilon**2)\n",
    "epsilon_square_sum2 = (epsilon.T @ epsilon).item()\n",
    "\n",
    "assert np.allclose(epsilon_square_sum1, epsilon_square_sum2)"
   ]
  },
  {
   "cell_type": "markdown",
   "metadata": {},
   "source": [
    "👍 works!"
   ]
  },
  {
   "cell_type": "markdown",
   "metadata": {},
   "source": [
    "2. $(AB)^{T} = B^{T}A^{T}$"
   ]
  },
  {
   "cell_type": "code",
   "execution_count": 3,
   "metadata": {},
   "outputs": [],
   "source": [
    "#collapse\n",
    "A = np.random.randn(50, 10)\n",
    "B = np.random.randn(10, 20)\n",
    "\n",
    "ab_t = (A @ B).T\n",
    "b_t_a_t = B.T @ A.T\n",
    "assert np.allclose(ab_t, b_t_a_t)"
   ]
  },
  {
   "cell_type": "markdown",
   "metadata": {},
   "source": [
    "🙄 Knew it already!"
   ]
  },
  {
   "cell_type": "markdown",
   "metadata": {},
   "source": [
    "3. For a scalar $s$, $s = s^{T}$"
   ]
  },
  {
   "cell_type": "markdown",
   "metadata": {},
   "source": [
    "4. Derivative of scalar $s$ with respect to (yes!, I wrote wrt as full here 😁) vector $\\theta$\n",
    "   $$\\theta = \\begin{bmatrix} \\theta_{1} \\\\ \\theta_{2} \\\\ \\vdots \\\\ \\theta{n} \\end{bmatrix}$$\n",
    "    $$\\frac{\\partial s}{\\partial \\theta} = \\begin{bmatrix}\n",
    "     \\frac{\\partial s}{\\partial \\theta_{1}} \\\\\n",
    "     \\frac{\\partial s}{\\partial \\theta_{2}} \\\\\n",
    "     \\frac{\\partial s}{\\partial \\theta_{3}} \\\\\n",
    "     \\vdots \\\\\n",
    "     \\frac{\\partial s}{\\partial \\theta_{n}} \n",
    "     \\end{bmatrix} $$"
   ]
  },
  {
   "cell_type": "markdown",
   "metadata": {},
   "source": [
    "5. If $A$ is a matrix and $\\theta$ is a vector, and $A\\theta$ is a scalar. Then \n",
    "   $$ \\frac{\\partial A \\theta}{\\partial \\theta} = A^{T} $$\n",
    "\n",
    "🤔 Taking some similarity with $a\\theta$, where both $a$ and $\\theta$ are scalar, I have an idea that it would be A. But shape of gradient would be $N \\times 1$, so $A^{T}$ is my guess before starting any calculations."
   ]
  },
  {
   "cell_type": "code",
   "execution_count": 4,
   "metadata": {},
   "outputs": [],
   "source": [
    "#collapse\n",
    "N = 20\n",
    "# as A $\\theta$ is scalar, so A.shape[0] should be 1.\n",
    "A = torch.randn((1, N))\n",
    "theta = torch.randn((N, 1), requires_grad=True)\n",
    "scalar = A @ theta\n",
    "scalar.backward()\n",
    "assert torch.allclose(theta.grad, A.T)"
   ]
  },
  {
   "cell_type": "markdown",
   "metadata": {},
   "source": [
    "👍 all good"
   ]
  },
  {
   "cell_type": "markdown",
   "metadata": {},
   "source": [
    "6. Assume $Z$ is a matrix of form $X^{T}X$, then \n",
    "   $$ \\frac{\\partial (\\theta^{T}Z\\theta)}{\\partial \\theta} = 2Z^{T}\\theta$$\n",
    "\n",
    "🤔 Let me again make a good guess before any calculation, if $\\theta$ and $Z$ are both scaler, then the derivative would look like $2Z\\theta$. So my guess would $2Z\\theta$, which is equal to $2Z^{T}\\theta$ as both are $Z$ is symmetric."
   ]
  },
  {
   "cell_type": "code",
   "execution_count": 5,
   "metadata": {},
   "outputs": [],
   "source": [
    "#collapse\n",
    "X = torch.randn((N, N))\n",
    "Z = X.T @ X\n",
    "theta = torch.randn((N, 1), requires_grad=True)\n",
    "\n",
    "scalar = theta.T @ Z @ theta\n",
    "scalar.backward()\n",
    "\n",
    "assert torch.allclose(theta.grad, 2 * Z.T @ theta)"
   ]
  },
  {
   "cell_type": "markdown",
   "metadata": {},
   "source": [
    "👍 good"
   ]
  },
  {
   "cell_type": "markdown",
   "metadata": {},
   "source": [
    "Let's skip over the content of Rank topic for now. "
   ]
  },
  {
   "cell_type": "markdown",
   "metadata": {},
   "source": [
    "The maximum rank possible for a matrix is $max(R, C)$ \n",
    "\n",
    "But an interesting question would be 🤔, what is the minimum rank possible for a matrix, is it 0, is it 1?\n",
    "\n",
    "Ans: Rank is zero, in case of zero matrix."
   ]
  },
  {
   "cell_type": "markdown",
   "metadata": {},
   "source": [
    "Just a leaving thought, if I would have been a developer of Numpy, I would not have allowed `np.eye` as the method for identity matrix. Better to use `np.identity` only. 😞"
   ]
  },
  {
   "cell_type": "markdown",
   "metadata": {},
   "source": [
    "## Linear Regression"
   ]
  },
  {
   "cell_type": "markdown",
   "metadata": {},
   "source": [
    "Considering `weight` as a linear function of `height`:\n",
    "- $weight_{1} \\approx \\theta_{0} + \\theta_{1} * height_{1}$\n",
    "- $weight_{2} \\approx \\theta_{0} + \\theta_{1} * height_{2}$\n",
    "- $weight_{N} \\approx \\theta_{0} + \\theta_{1} * height_{N}$\n",
    "\n",
    "\n",
    "$$ W_{N\\times1} = X_{N\\times2} \\, \\theta_{2\\times1} $$\n",
    "where the feature matrix $X$, $X = \\begin{bmatrix}\n",
    "1 & height_{1} \\\\\n",
    "1 & height_{2} \\\\\n",
    "\\vdots & \\vdots \\\\\n",
    "1 & height_{N}\n",
    "\\end{bmatrix}$\n",
    "\n",
    "- $\\theta_{0}$, Bias/Intercept term : (the value of $y$, when $x$ is set to zero)\n",
    "- $\\theta_{1}$, Slope term : (the increase in $y$, when $x$ is increased by 1 unit)"
   ]
  },
  {
   "cell_type": "code",
   "execution_count": 25,
   "metadata": {},
   "outputs": [
    {
     "data": {
      "text/html": [
       "<div>\n",
       "<style scoped>\n",
       "    .dataframe tbody tr th:only-of-type {\n",
       "        vertical-align: middle;\n",
       "    }\n",
       "\n",
       "    .dataframe tbody tr th {\n",
       "        vertical-align: top;\n",
       "    }\n",
       "\n",
       "    .dataframe thead th {\n",
       "        text-align: right;\n",
       "    }\n",
       "</style>\n",
       "<table border=\"1\" class=\"dataframe\">\n",
       "  <thead>\n",
       "    <tr style=\"text-align: right;\">\n",
       "      <th></th>\n",
       "      <th>Height</th>\n",
       "      <th>Weight</th>\n",
       "    </tr>\n",
       "  </thead>\n",
       "  <tbody>\n",
       "    <tr>\n",
       "      <th>601</th>\n",
       "      <td>67.115564</td>\n",
       "      <td>168.202167</td>\n",
       "    </tr>\n",
       "    <tr>\n",
       "      <th>4738</th>\n",
       "      <td>67.222467</td>\n",
       "      <td>176.538232</td>\n",
       "    </tr>\n",
       "    <tr>\n",
       "      <th>6375</th>\n",
       "      <td>66.157180</td>\n",
       "      <td>162.339164</td>\n",
       "    </tr>\n",
       "    <tr>\n",
       "      <th>9129</th>\n",
       "      <td>66.313844</td>\n",
       "      <td>139.141991</td>\n",
       "    </tr>\n",
       "    <tr>\n",
       "      <th>5347</th>\n",
       "      <td>67.098583</td>\n",
       "      <td>160.693330</td>\n",
       "    </tr>\n",
       "    <tr>\n",
       "      <th>8963</th>\n",
       "      <td>64.334788</td>\n",
       "      <td>161.746797</td>\n",
       "    </tr>\n",
       "    <tr>\n",
       "      <th>1393</th>\n",
       "      <td>68.342365</td>\n",
       "      <td>187.633463</td>\n",
       "    </tr>\n",
       "    <tr>\n",
       "      <th>2241</th>\n",
       "      <td>64.721622</td>\n",
       "      <td>150.619457</td>\n",
       "    </tr>\n",
       "    <tr>\n",
       "      <th>8061</th>\n",
       "      <td>65.118340</td>\n",
       "      <td>146.650334</td>\n",
       "    </tr>\n",
       "    <tr>\n",
       "      <th>2494</th>\n",
       "      <td>74.153065</td>\n",
       "      <td>212.276328</td>\n",
       "    </tr>\n",
       "    <tr>\n",
       "      <th>697</th>\n",
       "      <td>71.434727</td>\n",
       "      <td>206.594059</td>\n",
       "    </tr>\n",
       "    <tr>\n",
       "      <th>9641</th>\n",
       "      <td>65.858067</td>\n",
       "      <td>161.902044</td>\n",
       "    </tr>\n",
       "    <tr>\n",
       "      <th>7281</th>\n",
       "      <td>64.624289</td>\n",
       "      <td>138.112330</td>\n",
       "    </tr>\n",
       "    <tr>\n",
       "      <th>7222</th>\n",
       "      <td>63.126139</td>\n",
       "      <td>136.239929</td>\n",
       "    </tr>\n",
       "    <tr>\n",
       "      <th>142</th>\n",
       "      <td>66.206032</td>\n",
       "      <td>180.889555</td>\n",
       "    </tr>\n",
       "    <tr>\n",
       "      <th>651</th>\n",
       "      <td>70.661992</td>\n",
       "      <td>217.951883</td>\n",
       "    </tr>\n",
       "    <tr>\n",
       "      <th>8070</th>\n",
       "      <td>65.061414</td>\n",
       "      <td>131.588929</td>\n",
       "    </tr>\n",
       "    <tr>\n",
       "      <th>9735</th>\n",
       "      <td>66.691880</td>\n",
       "      <td>151.812907</td>\n",
       "    </tr>\n",
       "    <tr>\n",
       "      <th>9520</th>\n",
       "      <td>63.763403</td>\n",
       "      <td>136.230864</td>\n",
       "    </tr>\n",
       "    <tr>\n",
       "      <th>5421</th>\n",
       "      <td>63.291302</td>\n",
       "      <td>126.409991</td>\n",
       "    </tr>\n",
       "    <tr>\n",
       "      <th>1327</th>\n",
       "      <td>70.752647</td>\n",
       "      <td>202.741657</td>\n",
       "    </tr>\n",
       "    <tr>\n",
       "      <th>6761</th>\n",
       "      <td>67.462286</td>\n",
       "      <td>156.307311</td>\n",
       "    </tr>\n",
       "    <tr>\n",
       "      <th>2209</th>\n",
       "      <td>68.269014</td>\n",
       "      <td>196.843334</td>\n",
       "    </tr>\n",
       "    <tr>\n",
       "      <th>1523</th>\n",
       "      <td>70.886144</td>\n",
       "      <td>224.695162</td>\n",
       "    </tr>\n",
       "    <tr>\n",
       "      <th>8818</th>\n",
       "      <td>61.179601</td>\n",
       "      <td>130.410229</td>\n",
       "    </tr>\n",
       "    <tr>\n",
       "      <th>6839</th>\n",
       "      <td>59.809534</td>\n",
       "      <td>109.657437</td>\n",
       "    </tr>\n",
       "    <tr>\n",
       "      <th>8359</th>\n",
       "      <td>69.804817</td>\n",
       "      <td>174.027459</td>\n",
       "    </tr>\n",
       "    <tr>\n",
       "      <th>4692</th>\n",
       "      <td>73.706027</td>\n",
       "      <td>231.697887</td>\n",
       "    </tr>\n",
       "    <tr>\n",
       "      <th>2473</th>\n",
       "      <td>66.014958</td>\n",
       "      <td>169.099038</td>\n",
       "    </tr>\n",
       "    <tr>\n",
       "      <th>1993</th>\n",
       "      <td>65.513623</td>\n",
       "      <td>173.178827</td>\n",
       "    </tr>\n",
       "  </tbody>\n",
       "</table>\n",
       "</div>"
      ],
      "text/plain": [
       "         Height      Weight\n",
       "601   67.115564  168.202167\n",
       "4738  67.222467  176.538232\n",
       "6375  66.157180  162.339164\n",
       "9129  66.313844  139.141991\n",
       "5347  67.098583  160.693330\n",
       "8963  64.334788  161.746797\n",
       "1393  68.342365  187.633463\n",
       "2241  64.721622  150.619457\n",
       "8061  65.118340  146.650334\n",
       "2494  74.153065  212.276328\n",
       "697   71.434727  206.594059\n",
       "9641  65.858067  161.902044\n",
       "7281  64.624289  138.112330\n",
       "7222  63.126139  136.239929\n",
       "142   66.206032  180.889555\n",
       "651   70.661992  217.951883\n",
       "8070  65.061414  131.588929\n",
       "9735  66.691880  151.812907\n",
       "9520  63.763403  136.230864\n",
       "5421  63.291302  126.409991\n",
       "1327  70.752647  202.741657\n",
       "6761  67.462286  156.307311\n",
       "2209  68.269014  196.843334\n",
       "1523  70.886144  224.695162\n",
       "8818  61.179601  130.410229\n",
       "6839  59.809534  109.657437\n",
       "8359  69.804817  174.027459\n",
       "4692  73.706027  231.697887\n",
       "2473  66.014958  169.099038\n",
       "1993  65.513623  173.178827"
      ]
     },
     "metadata": {},
     "output_type": "display_data"
    },
    {
     "ename": "ValueError",
     "evalue": "Output interface must be of type `str` or `dict` or`OutputComponent` but is None",
     "output_type": "error",
     "traceback": [
      "\u001b[0;31m---------------------------------------------------------------------------\u001b[0m",
      "\u001b[0;31mValueError\u001b[0m                                Traceback (most recent call last)",
      "\u001b[0;32m/tmp/ipykernel_2235/1221736475.py\u001b[0m in \u001b[0;36m<module>\u001b[0;34m\u001b[0m\n\u001b[1;32m     11\u001b[0m     \u001b[0mx\u001b[0m \u001b[0;34m=\u001b[0m \u001b[0mweight_height_df\u001b[0m\u001b[0;34m[\u001b[0m\u001b[0;34m\"Weight\"\u001b[0m\u001b[0;34m]\u001b[0m\u001b[0;34m\u001b[0m\u001b[0;34m\u001b[0m\u001b[0m\n\u001b[1;32m     12\u001b[0m \u001b[0;34m\u001b[0m\u001b[0m\n\u001b[0;32m---> 13\u001b[0;31m \u001b[0mgr\u001b[0m\u001b[0;34m.\u001b[0m\u001b[0mInterface\u001b[0m\u001b[0;34m(\u001b[0m\u001b[0mfn\u001b[0m \u001b[0;34m=\u001b[0m \u001b[0mplot_line\u001b[0m\u001b[0;34m,\u001b[0m \u001b[0minputs\u001b[0m \u001b[0;34m=\u001b[0m \u001b[0;34m[\u001b[0m\u001b[0;34m\"number\"\u001b[0m\u001b[0;34m,\u001b[0m \u001b[0;34m\"number\"\u001b[0m\u001b[0;34m]\u001b[0m\u001b[0;34m,\u001b[0m \u001b[0mlive\u001b[0m \u001b[0;34m=\u001b[0m \u001b[0;32mTrue\u001b[0m\u001b[0;34m)\u001b[0m\u001b[0;34m.\u001b[0m\u001b[0mlaunch\u001b[0m\u001b[0;34m(\u001b[0m\u001b[0;34m)\u001b[0m\u001b[0;34m\u001b[0m\u001b[0;34m\u001b[0m\u001b[0m\n\u001b[0m",
      "\u001b[0;32m~/anaconda3/lib/python3.9/site-packages/gradio/interface.py\u001b[0m in \u001b[0;36m__init__\u001b[0;34m(self, fn, inputs, outputs, verbose, examples, examples_per_page, live, layout, show_input, show_output, capture_session, interpretation, num_shap, theme, repeat_outputs_per_model, title, description, article, thumbnail, css, height, width, allow_screenshot, allow_flagging, flagging_options, encrypt, show_tips, flagging_dir, analytics_enabled, server_name, server_port, enable_queue, api_mode, flagging_callback)\u001b[0m\n\u001b[1;32m    168\u001b[0m \u001b[0;34m\u001b[0m\u001b[0m\n\u001b[1;32m    169\u001b[0m         \u001b[0mself\u001b[0m\u001b[0;34m.\u001b[0m\u001b[0minput_components\u001b[0m \u001b[0;34m=\u001b[0m \u001b[0;34m[\u001b[0m\u001b[0mget_input_instance\u001b[0m\u001b[0;34m(\u001b[0m\u001b[0mi\u001b[0m\u001b[0;34m)\u001b[0m \u001b[0;32mfor\u001b[0m \u001b[0mi\u001b[0m \u001b[0;32min\u001b[0m \u001b[0minputs\u001b[0m\u001b[0;34m]\u001b[0m\u001b[0;34m\u001b[0m\u001b[0;34m\u001b[0m\u001b[0m\n\u001b[0;32m--> 170\u001b[0;31m         \u001b[0mself\u001b[0m\u001b[0;34m.\u001b[0m\u001b[0moutput_components\u001b[0m \u001b[0;34m=\u001b[0m \u001b[0;34m[\u001b[0m\u001b[0mget_output_instance\u001b[0m\u001b[0;34m(\u001b[0m\u001b[0mo\u001b[0m\u001b[0;34m)\u001b[0m \u001b[0;32mfor\u001b[0m \u001b[0mo\u001b[0m \u001b[0;32min\u001b[0m \u001b[0moutputs\u001b[0m\u001b[0;34m]\u001b[0m\u001b[0;34m\u001b[0m\u001b[0;34m\u001b[0m\u001b[0m\n\u001b[0m\u001b[1;32m    171\u001b[0m         \u001b[0;32mif\u001b[0m \u001b[0mrepeat_outputs_per_model\u001b[0m\u001b[0;34m:\u001b[0m\u001b[0;34m\u001b[0m\u001b[0;34m\u001b[0m\u001b[0m\n\u001b[1;32m    172\u001b[0m             \u001b[0mself\u001b[0m\u001b[0;34m.\u001b[0m\u001b[0moutput_components\u001b[0m \u001b[0;34m*=\u001b[0m \u001b[0mlen\u001b[0m\u001b[0;34m(\u001b[0m\u001b[0mfn\u001b[0m\u001b[0;34m)\u001b[0m\u001b[0;34m\u001b[0m\u001b[0;34m\u001b[0m\u001b[0m\n",
      "\u001b[0;32m~/anaconda3/lib/python3.9/site-packages/gradio/interface.py\u001b[0m in \u001b[0;36m<listcomp>\u001b[0;34m(.0)\u001b[0m\n\u001b[1;32m    168\u001b[0m \u001b[0;34m\u001b[0m\u001b[0m\n\u001b[1;32m    169\u001b[0m         \u001b[0mself\u001b[0m\u001b[0;34m.\u001b[0m\u001b[0minput_components\u001b[0m \u001b[0;34m=\u001b[0m \u001b[0;34m[\u001b[0m\u001b[0mget_input_instance\u001b[0m\u001b[0;34m(\u001b[0m\u001b[0mi\u001b[0m\u001b[0;34m)\u001b[0m \u001b[0;32mfor\u001b[0m \u001b[0mi\u001b[0m \u001b[0;32min\u001b[0m \u001b[0minputs\u001b[0m\u001b[0;34m]\u001b[0m\u001b[0;34m\u001b[0m\u001b[0;34m\u001b[0m\u001b[0m\n\u001b[0;32m--> 170\u001b[0;31m         \u001b[0mself\u001b[0m\u001b[0;34m.\u001b[0m\u001b[0moutput_components\u001b[0m \u001b[0;34m=\u001b[0m \u001b[0;34m[\u001b[0m\u001b[0mget_output_instance\u001b[0m\u001b[0;34m(\u001b[0m\u001b[0mo\u001b[0m\u001b[0;34m)\u001b[0m \u001b[0;32mfor\u001b[0m \u001b[0mo\u001b[0m \u001b[0;32min\u001b[0m \u001b[0moutputs\u001b[0m\u001b[0;34m]\u001b[0m\u001b[0;34m\u001b[0m\u001b[0;34m\u001b[0m\u001b[0m\n\u001b[0m\u001b[1;32m    171\u001b[0m         \u001b[0;32mif\u001b[0m \u001b[0mrepeat_outputs_per_model\u001b[0m\u001b[0;34m:\u001b[0m\u001b[0;34m\u001b[0m\u001b[0;34m\u001b[0m\u001b[0m\n\u001b[1;32m    172\u001b[0m             \u001b[0mself\u001b[0m\u001b[0;34m.\u001b[0m\u001b[0moutput_components\u001b[0m \u001b[0;34m*=\u001b[0m \u001b[0mlen\u001b[0m\u001b[0;34m(\u001b[0m\u001b[0mfn\u001b[0m\u001b[0;34m)\u001b[0m\u001b[0;34m\u001b[0m\u001b[0;34m\u001b[0m\u001b[0m\n",
      "\u001b[0;32m~/anaconda3/lib/python3.9/site-packages/gradio/outputs.py\u001b[0m in \u001b[0;36mget_output_instance\u001b[0;34m(iface)\u001b[0m\n\u001b[1;32m    830\u001b[0m         \u001b[0;32mreturn\u001b[0m \u001b[0miface\u001b[0m\u001b[0;34m\u001b[0m\u001b[0;34m\u001b[0m\u001b[0m\n\u001b[1;32m    831\u001b[0m     \u001b[0;32melse\u001b[0m\u001b[0;34m:\u001b[0m\u001b[0;34m\u001b[0m\u001b[0;34m\u001b[0m\u001b[0m\n\u001b[0;32m--> 832\u001b[0;31m         raise ValueError(\n\u001b[0m\u001b[1;32m    833\u001b[0m             \u001b[0;34m\"Output interface must be of type `str` or `dict` or\"\u001b[0m\u001b[0;34m\u001b[0m\u001b[0;34m\u001b[0m\u001b[0m\n\u001b[1;32m    834\u001b[0m             \u001b[0;34m\"`OutputComponent` but is {}\"\u001b[0m\u001b[0;34m.\u001b[0m\u001b[0mformat\u001b[0m\u001b[0;34m(\u001b[0m\u001b[0miface\u001b[0m\u001b[0;34m)\u001b[0m\u001b[0;34m\u001b[0m\u001b[0;34m\u001b[0m\u001b[0m\n",
      "\u001b[0;31mValueError\u001b[0m: Output interface must be of type `str` or `dict` or`OutputComponent` but is None"
     ]
    }
   ],
   "source": [
    "import gradio as gr\n",
    "\n",
    "weight_height_df = pd.read_csv(\"assets/2022-02-17-machine-learning-quiz2-practice/weight-height.csv\")\n",
    "# take 30 points\n",
    "sampled_idx = np.random.choice(np.arange(len(weight_height_df)), size = 30, replace = False)\n",
    "weight_height_df = weight_height_df.iloc[sampled_idx][[\"Height\", \"Weight\"]]\n",
    "display(weight_height_df)\n",
    "\n",
    "def plot_line(theta0, theta1):\n",
    "    y = weight_height_df[\"Height\"]\n",
    "    x = weight_height_df[\"Weight\"]\n",
    "\n",
    "gr.Interface(fn = plot_line, inputs = [\"number\", \"number\"], outputs = gr.outputs.Timeseries(x = live = True).launch()"
   ]
  },
  {
   "cell_type": "code",
   "execution_count": 39,
   "metadata": {},
   "outputs": [
    {
     "data": {
      "application/vnd.jupyter.widget-view+json": {
       "model_id": "8c406a8b4cfd4dc7be3a60781aa29867",
       "version_major": 2,
       "version_minor": 0
      },
      "text/plain": [
       "interactive(children=(FloatSlider(value=5.0, description='freq', max=5.0, min=1.0, step=0.5), FloatSlider(valu…"
      ]
     },
     "metadata": {},
     "output_type": "display_data"
    },
    {
     "data": {
      "text/plain": [
       "<function __main__.plot_func(freq, val)>"
      ]
     },
     "execution_count": 39,
     "metadata": {},
     "output_type": "execute_result"
    }
   ],
   "source": [
    "from ipywidgets import interact, interactive, fixed, interact_manual\n",
    "import ipywidgets as widgets\n",
    "\n",
    "import matplotlib.pyplot as plt\n",
    "%matplotlib inline\n",
    "\n",
    "import numpy as np\n",
    "\n",
    "def plot_func(freq, val):\n",
    "    x = np.linspace(0, 2*np.pi)\n",
    "    y = np.sin(x * freq)\n",
    "    y2 = np.zeros(x.shape)\n",
    "    y2[:] = val\n",
    "    plt.plot(x, y2)\n",
    "    plt.plot(x, y)\n",
    "\n",
    "interact(plot_func, freq = widgets.FloatSlider(value=7.5,\n",
    "                                               min=1,\n",
    "                                               max=5.0,\n",
    "                                               step=0.5), val = widgets.FloatSlider(value=7.5,\n",
    "                                               min=1,\n",
    "                                               max=5.0,\n",
    "                                               step=0.5))"
   ]
  },
  {
   "cell_type": "code",
   "execution_count": null,
   "metadata": {},
   "outputs": [],
   "source": []
  }
 ],
 "metadata": {
  "interpreter": {
   "hash": "d237ae157f8cbaa923dd81e7af592b21f98237404da5d65484215342ef66488a"
  },
  "kernelspec": {
   "display_name": "Python 3.9.7 ('base')",
   "language": "python",
   "name": "python3"
  },
  "language_info": {
   "codemirror_mode": {
    "name": "ipython",
    "version": 3
   },
   "file_extension": ".py",
   "mimetype": "text/x-python",
   "name": "python",
   "nbconvert_exporter": "python",
   "pygments_lexer": "ipython3",
   "version": "3.9.7"
  },
  "orig_nbformat": 4
 },
 "nbformat": 4,
 "nbformat_minor": 2
}
