{
 "cells": [
  {
   "cell_type": "markdown",
   "metadata": {},
   "source": [
    "# Most Frequest How-Tos\n",
    "- toc: true\n",
    "- badges: true\n",
    "- comments: true\n",
    "- author: Sachin Yadav\n",
    "- categories: [HowTo]\n",
    "<!-- - image: https://c.tenor.com/cu2Gonk18tEAAAAC/nerd-sponge-bob.gif -->"
   ]
  },
  {
   "cell_type": "markdown",
   "metadata": {},
   "source": [
    "The art of \"searching on internet\" is very crucial. Many times we face some technical tasks, which require us to frequently visit some blogs and Ask Ubuntu pages. \n",
    "So I thought of compiling some of the most common to-dos that I frequently search on the Internet."
   ]
  },
  {
   "cell_type": "markdown",
   "metadata": {},
   "source": [
    "### How To Configure SSH Key-Based Authentication on a Remote Server\n",
    "\n",
    "Saving your time to enter the password for SSH login into the remote machine every day. 😉\n",
    "\n",
    "https://www.digitalocean.com/community/tutorials/how-to-configure-ssh-key-based-authentication-on-a-linux-server"
   ]
  },
  {
   "cell_type": "markdown",
   "metadata": {},
   "source": [
    "### How to terminate Ubuntu under WSL\n",
    "\n",
    "Sometimes WSL occupies a lot of memory and CPU usage. It does not gets killed once no longer used.\n",
    "\n",
    "Short answer: `wsl --shutdown` in Windows terminal. (terminates all WSL distributions)\n",
    "\n",
    "\n",
    "Long answer: https://askubuntu.com/questions/1131122/cant-restart-shutdown-ubuntu-under-wsl\n"
   ]
  },
  {
   "cell_type": "code",
   "execution_count": null,
   "metadata": {},
   "outputs": [],
   "source": []
  }
 ],
 "metadata": {
  "language_info": {
   "name": "python"
  },
  "orig_nbformat": 4
 },
 "nbformat": 4,
 "nbformat_minor": 2
}
